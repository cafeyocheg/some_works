{
  "nbformat": 4,
  "nbformat_minor": 0,
  "metadata": {
    "colab": {
      "provenance": [],
      "collapsed_sections": []
    },
    "kernelspec": {
      "name": "python3",
      "display_name": "Python 3"
    },
    "language_info": {
      "name": "python"
    }
  },
  "cells": [
    {
      "cell_type": "markdown",
      "source": [
        "Нашей компании нужно сгруппировать клиентов для АБ-тестов. Алгоритм группировки очень простой - взять ID клиента (состоит из 5-7 цифр, например 7412567) и найти сумму всех его цифр. Получившееся число и является номером группы, в которую входит данный клиент.\n",
        "\n",
        "Для того, чтобы понять, насколько хорош такой простой алгоритм, тебе нужно написать следующие диагностические функции:\n",
        "\n",
        "- Функция, которая подсчитывает число покупателей, попадающих в каждую группу, если нумерация ID сквозная и начинается с 0. На вход функция получает целое число n_customers (количество клиентов).\n",
        "\n",
        "- Функция, аналогичная первой, если ID начинается с произвольного числа. На вход функция получает целые числа: n_customers (количество клиентов) и n_first_id (первый ID в последовательности)."
      ],
      "metadata": {
        "id": "WxjsdKRI8eXV"
      }
    },
    {
      "cell_type": "code",
      "source": [
        "sample_id = 99999"
      ],
      "metadata": {
        "id": "YPcwUGDY_jfl"
      },
      "execution_count": 52,
      "outputs": []
    },
    {
      "cell_type": "code",
      "execution_count": 53,
      "metadata": {
        "colab": {
          "base_uri": "https://localhost:8080/"
        },
        "id": "oDsQ8mPh8bvE",
        "outputId": "c312fae1-b22e-4d86-eaa4-ffb79b28cf85"
      },
      "outputs": [
        {
          "output_type": "execute_result",
          "data": {
            "text/plain": [
              "45"
            ]
          },
          "metadata": {},
          "execution_count": 53
        }
      ],
      "source": [
        "# простенькая функция сложения цифр для определения группы пользователя\n",
        "def define_group(user_id):\n",
        "  user_group = 0\n",
        "  for num in str(user_id):\n",
        "    user_group += int(num)\n",
        "\n",
        "  return user_group  # ---> 63 возможных групп\n",
        "\n",
        "define_group(sample_id)"
      ]
    },
    {
      "cell_type": "code",
      "source": [
        "'''\n",
        "Функция, которая подсчитывает число покупателей, попадающих в каждую группу, \n",
        "если нумерация ID сквозная и начинается с 0. \n",
        "На вход функция получает целое число n_customers (количество клиентов).\n",
        "'''\n",
        "\n",
        "# договоримся, что первый клиент имеет id=0000000 то есть единственный в 0 группе\n",
        "# a id из 7 цифр ===> максимум клиентов пока 10млн (до 9.999.999)"
      ],
      "metadata": {
        "id": "UUeZ1uw99iPk"
      },
      "execution_count": 65,
      "outputs": []
    },
    {
      "cell_type": "code",
      "source": [
        "def usercount_from_zero(n_customers):\n",
        "\n",
        "  count_dict = {}\n",
        "  defined_customers = []\n",
        "\n",
        "  for customer in range(n_customers):\n",
        "    defined_customers.append(define_group(customer))\n",
        "\n",
        "  for el in defined_customers:\n",
        "    count_dict[el] = count_dict.get(el, 0) + 1\n",
        "\n",
        "  return count_dict"
      ],
      "metadata": {
        "id": "TRsLJvlbVriU"
      },
      "execution_count": 77,
      "outputs": []
    },
    {
      "cell_type": "code",
      "source": [
        "# пример вывода с 197 клиентами\n",
        "usercount_from_zero(197)"
      ],
      "metadata": {
        "colab": {
          "base_uri": "https://localhost:8080/"
        },
        "id": "PpXAzSHIC3ZA",
        "outputId": "774c9b6f-0971-489a-d6cb-f108250948de"
      },
      "execution_count": 78,
      "outputs": [
        {
          "output_type": "execute_result",
          "data": {
            "text/plain": [
              "{0: 1,\n",
              " 1: 3,\n",
              " 2: 5,\n",
              " 3: 7,\n",
              " 4: 9,\n",
              " 5: 11,\n",
              " 6: 13,\n",
              " 7: 15,\n",
              " 8: 17,\n",
              " 9: 19,\n",
              " 10: 19,\n",
              " 11: 17,\n",
              " 12: 15,\n",
              " 13: 13,\n",
              " 14: 11,\n",
              " 15: 9,\n",
              " 16: 7,\n",
              " 17: 4,\n",
              " 18: 2}"
            ]
          },
          "metadata": {},
          "execution_count": 78
        }
      ]
    },
    {
      "cell_type": "code",
      "source": [
        "'''\n",
        "Функция, аналогичная первой, если ID начинается с произвольного числа. \n",
        "На вход функция получает целые числа: \n",
        "n_customers (количество клиентов) и n_first_id (первый ID в последовательности).\n",
        "'''\n",
        "\n",
        "def usercount_from_variable_start(n_customers, n_first_id):\n",
        "  count_dict = {}\n",
        "  defined_customers = []\n",
        "\n",
        "  end = (int(n_first_id) + n_customers)\n",
        "  for customer in range(n_first_id, end):\n",
        "    defined_customers.append(define_group(customer))\n",
        "\n",
        "  for el in defined_customers:\n",
        "    count_dict[el] = count_dict.get(el, 0) + 1\n",
        "\n",
        "  return count_dict"
      ],
      "metadata": {
        "id": "kGCIM9TjX_F5"
      },
      "execution_count": 87,
      "outputs": []
    },
    {
      "cell_type": "code",
      "source": [
        "usercount_from_variable_start(197, '0069197')"
      ],
      "metadata": {
        "colab": {
          "base_uri": "https://localhost:8080/"
        },
        "id": "t1nmm3D0X_IF",
        "outputId": "f89c94ce-d744-4f4d-f044-c829f5bfa78e"
      },
      "execution_count": 90,
      "outputs": [
        {
          "output_type": "execute_result",
          "data": {
            "text/plain": [
              "{32: 9,\n",
              " 33: 7,\n",
              " 34: 5,\n",
              " 17: 1,\n",
              " 18: 3,\n",
              " 19: 5,\n",
              " 20: 7,\n",
              " 21: 9,\n",
              " 22: 11,\n",
              " 23: 13,\n",
              " 24: 15,\n",
              " 25: 17,\n",
              " 26: 19,\n",
              " 27: 19,\n",
              " 28: 17,\n",
              " 29: 15,\n",
              " 30: 13,\n",
              " 31: 10,\n",
              " 35: 2}"
            ]
          },
          "metadata": {},
          "execution_count": 90
        }
      ]
    }
  ]
}
