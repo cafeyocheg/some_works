{
 "cells": [
  {
   "cell_type": "markdown",
   "metadata": {},
   "source": [
    "Необходимо написать скрипт для парсинга диалогов из файла test_data.csv. \n",
    "Получившийся скрипт необходимо выложить в гит репозиторий и прислать ссылку в качестве результата прохождения тестового задания. Данные выкладывать в гит не следует. \n",
    "Главные задачи, которые должен выполнять скрипт:\n",
    "- Извлекать реплики с приветствием – где менеджер поздоровался GREETING. \n",
    "- Извлекать реплики, где менеджер представил себя INTRODUCE. \n",
    "- Извлекать имя менеджера MANAGER_NAME. \n",
    "- Извлекать название компании COMPANY_NAME. \n",
    "- Извлекать реплики, где менеджер попрощался GOODBYE.\n",
    "\n",
    "Проверять требование к менеджеру: «В каждом диалоге обязательно необходимо поздороваться и попрощаться с клиентом»\n",
    "\n",
    "Рекомендации:\n",
    "- Сделать локальную копию файла test_data.csv, в исходнике никакие данные не менять!\n",
    "- Можно создать дополнительное поле в таблице test_data.csv, куда будет сохраняться результат парсинга – например, напротив реплики в столбце “insight” можно ставить флаг того, что эта реплика с приветствием greeting=True.\n",
    "- Для выполнения задачи можно использовать любые библиотеки и NLP модели. \n",
    "- Попробуйте учесть возможные синонимичные выражения, которые могут помочь с извлечением данных сущностей. \n"
   ]
  },
  {
   "cell_type": "code",
   "execution_count": 1,
   "metadata": {},
   "outputs": [],
   "source": [
    "import pandas as pd"
   ]
  },
  {
   "cell_type": "code",
   "execution_count": 2,
   "metadata": {},
   "outputs": [],
   "source": [
    "df = pd.read_csv('test_data.csv')"
   ]
  },
  {
   "cell_type": "code",
   "execution_count": 3,
   "metadata": {},
   "outputs": [
    {
     "name": "stdout",
     "output_type": "stream",
     "text": [
      "Index(['dlg_id', 'line_n', 'role', 'text'], dtype='object')\n",
      "(480, 4)\n"
     ]
    }
   ],
   "source": [
    "print(df.columns)\n",
    "print(df.shape)"
   ]
  },
  {
   "cell_type": "code",
   "execution_count": 4,
   "metadata": {},
   "outputs": [
    {
     "data": {
      "text/html": [
       "<div>\n",
       "<style scoped>\n",
       "    .dataframe tbody tr th:only-of-type {\n",
       "        vertical-align: middle;\n",
       "    }\n",
       "\n",
       "    .dataframe tbody tr th {\n",
       "        vertical-align: top;\n",
       "    }\n",
       "\n",
       "    .dataframe thead th {\n",
       "        text-align: right;\n",
       "    }\n",
       "</style>\n",
       "<table border=\"1\" class=\"dataframe\">\n",
       "  <thead>\n",
       "    <tr style=\"text-align: right;\">\n",
       "      <th></th>\n",
       "      <th>dlg_id</th>\n",
       "      <th>line_n</th>\n",
       "      <th>role</th>\n",
       "      <th>text</th>\n",
       "    </tr>\n",
       "  </thead>\n",
       "  <tbody>\n",
       "    <tr>\n",
       "      <th>0</th>\n",
       "      <td>0</td>\n",
       "      <td>0</td>\n",
       "      <td>client</td>\n",
       "      <td>Алло</td>\n",
       "    </tr>\n",
       "    <tr>\n",
       "      <th>1</th>\n",
       "      <td>0</td>\n",
       "      <td>1</td>\n",
       "      <td>manager</td>\n",
       "      <td>Алло здравствуйте</td>\n",
       "    </tr>\n",
       "    <tr>\n",
       "      <th>2</th>\n",
       "      <td>0</td>\n",
       "      <td>2</td>\n",
       "      <td>client</td>\n",
       "      <td>Добрый день</td>\n",
       "    </tr>\n",
       "    <tr>\n",
       "      <th>3</th>\n",
       "      <td>0</td>\n",
       "      <td>3</td>\n",
       "      <td>manager</td>\n",
       "      <td>Меня зовут ангелина компания диджитал бизнес з...</td>\n",
       "    </tr>\n",
       "    <tr>\n",
       "      <th>4</th>\n",
       "      <td>0</td>\n",
       "      <td>4</td>\n",
       "      <td>client</td>\n",
       "      <td>Ага</td>\n",
       "    </tr>\n",
       "    <tr>\n",
       "      <th>...</th>\n",
       "      <td>...</td>\n",
       "      <td>...</td>\n",
       "      <td>...</td>\n",
       "      <td>...</td>\n",
       "    </tr>\n",
       "    <tr>\n",
       "      <th>475</th>\n",
       "      <td>5</td>\n",
       "      <td>138</td>\n",
       "      <td>manager</td>\n",
       "      <td>По поводу виджетов и с ними уже обсудите конкр...</td>\n",
       "    </tr>\n",
       "    <tr>\n",
       "      <th>476</th>\n",
       "      <td>5</td>\n",
       "      <td>139</td>\n",
       "      <td>manager</td>\n",
       "      <td>Все я вам высылаю счет и с вами на связи если ...</td>\n",
       "    </tr>\n",
       "    <tr>\n",
       "      <th>477</th>\n",
       "      <td>5</td>\n",
       "      <td>140</td>\n",
       "      <td>client</td>\n",
       "      <td>Спасибо спасибо</td>\n",
       "    </tr>\n",
       "    <tr>\n",
       "      <th>478</th>\n",
       "      <td>5</td>\n",
       "      <td>141</td>\n",
       "      <td>client</td>\n",
       "      <td>Да да тогда созвонимся ага спасибо вам давайте</td>\n",
       "    </tr>\n",
       "    <tr>\n",
       "      <th>479</th>\n",
       "      <td>5</td>\n",
       "      <td>142</td>\n",
       "      <td>manager</td>\n",
       "      <td>Ну до свидания хорошего вечера</td>\n",
       "    </tr>\n",
       "  </tbody>\n",
       "</table>\n",
       "<p>480 rows × 4 columns</p>\n",
       "</div>"
      ],
      "text/plain": [
       "     dlg_id  line_n     role  \\\n",
       "0         0       0   client   \n",
       "1         0       1  manager   \n",
       "2         0       2   client   \n",
       "3         0       3  manager   \n",
       "4         0       4   client   \n",
       "..      ...     ...      ...   \n",
       "475       5     138  manager   \n",
       "476       5     139  manager   \n",
       "477       5     140   client   \n",
       "478       5     141   client   \n",
       "479       5     142  manager   \n",
       "\n",
       "                                                  text  \n",
       "0                                                 Алло  \n",
       "1                                    Алло здравствуйте  \n",
       "2                                          Добрый день  \n",
       "3    Меня зовут ангелина компания диджитал бизнес з...  \n",
       "4                                                  Ага  \n",
       "..                                                 ...  \n",
       "475  По поводу виджетов и с ними уже обсудите конкр...  \n",
       "476  Все я вам высылаю счет и с вами на связи если ...  \n",
       "477                                    Спасибо спасибо  \n",
       "478     Да да тогда созвонимся ага спасибо вам давайте  \n",
       "479                     Ну до свидания хорошего вечера  \n",
       "\n",
       "[480 rows x 4 columns]"
      ]
     },
     "execution_count": 4,
     "metadata": {},
     "output_type": "execute_result"
    }
   ],
   "source": [
    "df"
   ]
  },
  {
   "cell_type": "markdown",
   "metadata": {},
   "source": [
    "### Буду использовать yargy парсер"
   ]
  },
  {
   "cell_type": "code",
   "execution_count": 5,
   "metadata": {},
   "outputs": [
    {
     "name": "stdout",
     "output_type": "stream",
     "text": [
      "Requirement already satisfied: natasha in c:\\programdata\\anaconda3\\lib\\site-packages (1.4.0)\n",
      "Requirement already satisfied: razdel>=0.5.0 in c:\\programdata\\anaconda3\\lib\\site-packages (from natasha) (0.5.0)\n",
      "Requirement already satisfied: yargy>=0.14.0 in c:\\programdata\\anaconda3\\lib\\site-packages (from natasha) (0.15.0)\n",
      "Requirement already satisfied: pymorphy2 in c:\\programdata\\anaconda3\\lib\\site-packages (from natasha) (0.9.1)\n",
      "Requirement already satisfied: ipymarkup>=0.8.0 in c:\\programdata\\anaconda3\\lib\\site-packages (from natasha) (0.9.0)\n",
      "Requirement already satisfied: slovnet>=0.3.0 in c:\\programdata\\anaconda3\\lib\\site-packages (from natasha) (0.5.0)\n",
      "Requirement already satisfied: navec>=0.9.0 in c:\\programdata\\anaconda3\\lib\\site-packages (from natasha) (0.10.0)\n",
      "Requirement already satisfied: intervaltree>=3 in c:\\programdata\\anaconda3\\lib\\site-packages (from ipymarkup>=0.8.0->natasha) (3.1.0)\n",
      "Requirement already satisfied: numpy in c:\\programdata\\anaconda3\\lib\\site-packages (from navec>=0.9.0->natasha) (1.20.3)\n",
      "Requirement already satisfied: pymorphy2-dicts-ru<3.0,>=2.4 in c:\\programdata\\anaconda3\\lib\\site-packages (from pymorphy2->natasha) (2.4.417127.4579844)\n",
      "Requirement already satisfied: dawg-python>=0.7.1 in c:\\programdata\\anaconda3\\lib\\site-packages (from pymorphy2->natasha) (0.7.2)\n",
      "Requirement already satisfied: docopt>=0.6 in c:\\programdata\\anaconda3\\lib\\site-packages (from pymorphy2->natasha) (0.6.2)\n",
      "Requirement already satisfied: sortedcontainers<3.0,>=2.0 in c:\\programdata\\anaconda3\\lib\\site-packages (from intervaltree>=3->ipymarkup>=0.8.0->natasha) (2.4.0)\n"
     ]
    }
   ],
   "source": [
    "!pip install natasha"
   ]
  },
  {
   "cell_type": "code",
   "execution_count": 6,
   "metadata": {},
   "outputs": [],
   "source": [
    "from yargy import rule, Parser, or_\n",
    "from yargy.predicates import eq, type as yargy_type, normalized, in_, gram, dictionary\n",
    "from yargy.pipelines import morph_pipeline"
   ]
  },
  {
   "cell_type": "code",
   "execution_count": 7,
   "metadata": {
    "scrolled": true
   },
   "outputs": [],
   "source": [
    "# за приветствие и прощание буду принимать только корректные для деловой беседы формулировки\n",
    "# для простой задачи достаточно morph_pipeline, расписать варианты относительно недолго\n",
    "GREETING = morph_pipeline([\n",
    "    'здравствуйте',\n",
    "    'добрый день',\n",
    "    'день добрый',\n",
    "    'добрый вечер',\n",
    "    'вечер добрый',\n",
    "    'доброе утро',\n",
    "    'приветствую'\n",
    "    ])\n",
    "\n",
    "GOODBYE = morph_pipeline([\n",
    "    'до свидания', \n",
    "    'всего доброго',\n",
    "    'хорошего вечера',\n",
    "    'хорошего дня',\n",
    "    'всего доброго', \n",
    "    'прощайте',\n",
    "])"
   ]
  },
  {
   "cell_type": "code",
   "execution_count": 8,
   "metadata": {},
   "outputs": [],
   "source": [
    "# имя следует за \"зовут\" чаще всего, особенно если в деловой беседе (хотя в одной представлении эти токены переставлены)\n",
    "MANAGER_NAME = rule(\n",
    "        gram('NOUN').optional(),\n",
    "        eq('зовут'),\n",
    "        gram('NOUN').optional()\n",
    ")\n",
    "\n",
    "# название компании может следовать ЗА (MANAGER_NAME) или может идти ПЕРЕД токенами \"меня\" и \"зовут\"\n",
    "# впрочем, может быть вот так: \"компания диджитал бизнес, ангелина\"\n",
    "COMPANY_NAME = rule(normalized('компания'),\n",
    "        gram('NOUN'),\n",
    "        gram('NOUN').optional()\n",
    ")\n",
    "\n",
    "# после получения имени и компании проще найти реплики с полным представлением менеджера\n",
    "INTRODUCE = rule(\n",
    "    eq('меня').optional(),\n",
    "    normalized('зовут').optional(),\n",
    "    MANAGER_NAME,\n",
    "    normalized('компания').optional(), # из(от) компаниИ, компаниЯ, (представляю) компаниЮ и т.д.\n",
    "    COMPANY_NAME   \n",
    ")"
   ]
  },
  {
   "cell_type": "code",
   "execution_count": 9,
   "metadata": {
    "scrolled": false
   },
   "outputs": [],
   "source": [
    "text = []\n",
    "for line in df['text']:\n",
    "    text.append(line)\n",
    "    \n",
    "#text"
   ]
  },
  {
   "cell_type": "code",
   "execution_count": 10,
   "metadata": {},
   "outputs": [
    {
     "name": "stdout",
     "output_type": "stream",
     "text": [
      "['зовут', 'ангелина', 'компания', 'диджитал', 'бизнес']\n",
      "['зовут', 'ангелина', 'компания', 'диджитал', 'бизнес']\n",
      "['зовут', 'ангелина', 'компания', 'диджитал', 'бизнес']\n",
      "['меня', 'максим', 'зовут', 'компания', 'китобизнес']\n"
     ]
    }
   ],
   "source": [
    "# представление по имени и названию компании\n",
    "parser = Parser(INTRODUCE)\n",
    "\n",
    "for match in parser.findall(str(text)):\n",
    "    print([x.value for x in match.tokens])"
   ]
  },
  {
   "cell_type": "code",
   "execution_count": 11,
   "metadata": {},
   "outputs": [
    {
     "name": "stdout",
     "output_type": "stream",
     "text": [
      "['здравствуйте']\n",
      "['Добрый', 'день']\n",
      "['здравствуйте']\n",
      "['здравствуйте']\n",
      "['Здравствуйте']\n",
      "['здравствуйте']\n",
      "['Добрый', 'день']\n",
      "['добрый', 'день']\n",
      "['здравствуйте']\n"
     ]
    }
   ],
   "source": [
    "# приветствие\n",
    "parser = Parser(GREETING)\n",
    "\n",
    "for match in parser.findall(str(text)):\n",
    "    print([x.value for x in match.tokens])"
   ]
  },
  {
   "cell_type": "code",
   "execution_count": 12,
   "metadata": {},
   "outputs": [
    {
     "name": "stdout",
     "output_type": "stream",
     "text": [
      "['до', 'свидания']\n",
      "['До', 'свидания']\n",
      "['всего', 'доброго']\n",
      "['до', 'свидания']\n",
      "['до', 'свидания']\n",
      "['до', 'свидания']\n",
      "['до', 'свидания']\n",
      "['хорошего', 'вечера']\n"
     ]
    }
   ],
   "source": [
    "# прощание\n",
    "parser = Parser(GOODBYE)\n",
    "\n",
    "for match in parser.findall(str(text)):\n",
    "    print([x.value for x in match.tokens])"
   ]
  },
  {
   "cell_type": "code",
   "execution_count": 13,
   "metadata": {},
   "outputs": [
    {
     "name": "stdout",
     "output_type": "stream",
     "text": [
      "['зовут', 'ангелина']\n",
      "['зовут', 'ангелина']\n",
      "['зовут', 'ангелина']\n",
      "['максим', 'зовут', 'компания']\n"
     ]
    }
   ],
   "source": [
    "# имя менеджера\n",
    "parser = Parser(MANAGER_NAME)\n",
    "\n",
    "for match in parser.findall(str(text)):\n",
    "    print([x.value for x in match.tokens])"
   ]
  },
  {
   "cell_type": "markdown",
   "metadata": {},
   "source": [
    "====================================================================================\n",
    "\n",
    "Здесь я на ходу переобулся и решил использовать регулярные выражения.\n",
    "\n",
    "Оставил строчки с yargy, чтобы показать, что с ним ознакомился. \n",
    "\n",
    "И по крайней мере не буду дублировать GOODBYE и GREETING (тем более что их парсить легче с morph_pipeline); будет гибридный хаотичный парсинг"
   ]
  },
  {
   "cell_type": "code",
   "execution_count": 79,
   "metadata": {
    "scrolled": false
   },
   "outputs": [],
   "source": [
    "import re\n",
    "import csv\n",
    "import numpy as np\n",
    "import pandas as pd\n",
    "\n",
    "def find_name(text):\n",
    "    # example = 'Меня зовут ангелина компания диджитал бизнес'\n",
    "    pattern = r\"зовут(.+)компания\"\n",
    "    result = re.findall(pattern, text)\n",
    "    if result == [' ']:\n",
    "        pattern = r\"меня(.+)зовут\"\n",
    "        result = re.findall(pattern, text)\n",
    "    return result\n",
    "\n",
    "\n",
    "def find_company_name(text):\n",
    "    # example = 'Меня зовут ангелина компания диджитал бизнес'\n",
    "    pattern = r\"компания\\s(.+бизнес+)\"\n",
    "    result = re.findall(pattern, text)\n",
    "    return result"
   ]
  },
  {
   "cell_type": "code",
   "execution_count": 100,
   "metadata": {},
   "outputs": [
    {
     "name": "stdout",
     "output_type": "stream",
     "text": [
      "[[' ангелина '], [' ангелина '], [' ангелина '], [' максим ']]\n",
      "[['диджитал бизнес'], ['диджитал бизнес'], ['диджитал бизнес'], ['китобизнес']]\n"
     ]
    }
   ],
   "source": [
    "with open('./test_data.csv', 'r', encoding='UTF-8') as f:\n",
    "    data = csv.reader(f, delimiter=',')\n",
    "    \n",
    "    names = []\n",
    "    company_names = []\n",
    "    \n",
    "    introducing = np.zeros(480, dtype=np.int64)\n",
    "    \n",
    "    ind = 0\n",
    "    for line in data:\n",
    "        mng_name = find_name(line[3])\n",
    "        cmpn_name = find_company_name(line[3])\n",
    "        ind += 1\n",
    "        if len(mng_name) > 0 and line[2] == 'manager':   # поиск совпадений по имени менеджера\n",
    "            names.append(mng_name)\n",
    "            \n",
    "            # в этой же реплике логично искать название компании, если менеджер представляется правильно\n",
    "            cmpn_name = find_company_name(line[3])\n",
    "            company_names.append(cmpn_name)\n",
    "            \n",
    "            introducing[ind-2] = 1     # флаг где менеджер представился\n",
    "    \n",
    "    \n",
    "    \n",
    "    print(names)\n",
    "    print(company_names)   "
   ]
  },
  {
   "cell_type": "code",
   "execution_count": 101,
   "metadata": {},
   "outputs": [],
   "source": [
    "# теперь можно добавить флаг с представлением менеджера в новый csv\n",
    "df = pd.read_csv('./test_data.csv')\n",
    "df.loc[:, 'introduced'] = introducing"
   ]
  },
  {
   "cell_type": "code",
   "execution_count": 104,
   "metadata": {},
   "outputs": [
    {
     "data": {
      "text/html": [
       "<div>\n",
       "<style scoped>\n",
       "    .dataframe tbody tr th:only-of-type {\n",
       "        vertical-align: middle;\n",
       "    }\n",
       "\n",
       "    .dataframe tbody tr th {\n",
       "        vertical-align: top;\n",
       "    }\n",
       "\n",
       "    .dataframe thead th {\n",
       "        text-align: right;\n",
       "    }\n",
       "</style>\n",
       "<table border=\"1\" class=\"dataframe\">\n",
       "  <thead>\n",
       "    <tr style=\"text-align: right;\">\n",
       "      <th></th>\n",
       "      <th>dlg_id</th>\n",
       "      <th>line_n</th>\n",
       "      <th>role</th>\n",
       "      <th>text</th>\n",
       "      <th>introduced</th>\n",
       "    </tr>\n",
       "  </thead>\n",
       "  <tbody>\n",
       "    <tr>\n",
       "      <th>3</th>\n",
       "      <td>0</td>\n",
       "      <td>3</td>\n",
       "      <td>manager</td>\n",
       "      <td>Меня зовут ангелина компания диджитал бизнес з...</td>\n",
       "      <td>1</td>\n",
       "    </tr>\n",
       "    <tr>\n",
       "      <th>111</th>\n",
       "      <td>1</td>\n",
       "      <td>2</td>\n",
       "      <td>manager</td>\n",
       "      <td>Меня зовут ангелина компания диджитал бизнес з...</td>\n",
       "      <td>1</td>\n",
       "    </tr>\n",
       "    <tr>\n",
       "      <th>167</th>\n",
       "      <td>2</td>\n",
       "      <td>3</td>\n",
       "      <td>manager</td>\n",
       "      <td>Меня зовут ангелина компания диджитал бизнес з...</td>\n",
       "      <td>1</td>\n",
       "    </tr>\n",
       "    <tr>\n",
       "      <th>251</th>\n",
       "      <td>3</td>\n",
       "      <td>2</td>\n",
       "      <td>manager</td>\n",
       "      <td>Добрый меня максим зовут компания китобизнес у...</td>\n",
       "      <td>1</td>\n",
       "    </tr>\n",
       "  </tbody>\n",
       "</table>\n",
       "</div>"
      ],
      "text/plain": [
       "     dlg_id  line_n     role  \\\n",
       "3         0       3  manager   \n",
       "111       1       2  manager   \n",
       "167       2       3  manager   \n",
       "251       3       2  manager   \n",
       "\n",
       "                                                  text  introduced  \n",
       "3    Меня зовут ангелина компания диджитал бизнес з...           1  \n",
       "111  Меня зовут ангелина компания диджитал бизнес з...           1  \n",
       "167  Меня зовут ангелина компания диджитал бизнес з...           1  \n",
       "251  Добрый меня максим зовут компания китобизнес у...           1  "
      ]
     },
     "execution_count": 104,
     "metadata": {},
     "output_type": "execute_result"
    }
   ],
   "source": [
    "df[df['introduced'] == 1 ]"
   ]
  },
  {
   "cell_type": "code",
   "execution_count": 113,
   "metadata": {},
   "outputs": [],
   "source": [
    "df.to_csv('new_test_data.csv', sep='|')  "
   ]
  }
 ],
 "metadata": {
  "kernelspec": {
   "display_name": "Python 3 (ipykernel)",
   "language": "python",
   "name": "python3"
  },
  "language_info": {
   "codemirror_mode": {
    "name": "ipython",
    "version": 3
   },
   "file_extension": ".py",
   "mimetype": "text/x-python",
   "name": "python",
   "nbconvert_exporter": "python",
   "pygments_lexer": "ipython3",
   "version": "3.9.7"
  }
 },
 "nbformat": 4,
 "nbformat_minor": 2
}
